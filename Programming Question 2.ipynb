{
 "cells": [
  {
   "cell_type": "code",
   "execution_count": null,
   "metadata": {},
   "outputs": [],
   "source": [
    "if __name__ == '__main__':\n",
    "    lis=[]\n",
    "    for _ in range(int(input())):\n",
    "        name = input()\n",
    "        score = float(input())\n",
    "        \n",
    "        lis.append([name,score])\n",
    "    \n",
    "    lis.sort(key=lambda lis:lis[1])\n",
    "    \n",
    "    second_lowest=[]\n",
    "    for i in range(len(lis)):\n",
    "        if lis[i][1]!=lis[0][1]:\n",
    "            second_lowest.append(lis[i][0])\n",
    "            for j in range(i+1,len(lis)):\n",
    "                if lis[j][1]==lis[i][1]:\n",
    "                    second_lowest.append(lis[j][0])\n",
    "                else:\n",
    "                    break\n",
    "            break        \n",
    "           \n",
    "                   \n",
    "            \n",
    "        else:\n",
    "            continue\n",
    "           \n",
    "\n",
    "    second_lowest.sort()\n",
    "    for i in second_lowest:\n",
    "        print(i)\n"
   ]
  },
  {
   "cell_type": "code",
   "execution_count": null,
   "metadata": {},
   "outputs": [],
   "source": []
  }
 ],
 "metadata": {
  "kernelspec": {
   "display_name": "Python 3",
   "language": "python",
   "name": "python3"
  },
  "language_info": {
   "codemirror_mode": {
    "name": "ipython",
    "version": 3
   },
   "file_extension": ".py",
   "mimetype": "text/x-python",
   "name": "python",
   "nbconvert_exporter": "python",
   "pygments_lexer": "ipython3",
   "version": "3.7.3"
  }
 },
 "nbformat": 4,
 "nbformat_minor": 2
}
